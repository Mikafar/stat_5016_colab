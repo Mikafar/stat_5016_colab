{
  "nbformat": 4,
  "nbformat_minor": 0,
  "metadata": {
    "kernelspec": {
      "display_name": "Python 3",
      "language": "python",
      "name": "python3"
    },
    "language_info": {
      "codemirror_mode": {
        "name": "ipython",
        "version": 3
      },
      "file_extension": ".py",
      "mimetype": "text/x-python",
      "name": "python",
      "nbconvert_exporter": "python",
      "pygments_lexer": "ipython3",
      "version": "3.6.9"
    },
    "colab": {
      "provenance": [],
      "include_colab_link": true
    }
  },
  "cells": [
    {
      "cell_type": "markdown",
      "metadata": {
        "id": "view-in-github",
        "colab_type": "text"
      },
      "source": [
        "<a href=\"https://colab.research.google.com/github/Mikafar/stat_5016_colab/blob/main/Week_1_PythonProgramming101.ipynb\" target=\"_parent\"><img src=\"https://colab.research.google.com/assets/colab-badge.svg\" alt=\"Open In Colab\"/></a>"
      ]
    },
    {
      "cell_type": "markdown",
      "metadata": {
        "id": "BJLe9DwKSGjo"
      },
      "source": [
        "# Python Programming 101\n",
        "\n",
        "### Constants"
      ]
    },
    {
      "cell_type": "code",
      "metadata": {
        "id": "kZRzsKplSGjo"
      },
      "source": [
        "print(123)\n",
        "print(98.6)\n",
        "print('Hello World')\n",
        "print(True)"
      ],
      "execution_count": null,
      "outputs": []
    },
    {
      "cell_type": "markdown",
      "source": [
        "For Checking hotkey, please press Ctrl-M, then press H."
      ],
      "metadata": {
        "id": "E_ows4a4GZNn"
      }
    },
    {
      "cell_type": "markdown",
      "metadata": {
        "id": "n5ZlqDZlSGjs"
      },
      "source": [
        "### Variables"
      ]
    },
    {
      "cell_type": "code",
      "source": [
        "x = 12.2\n",
        "y = 14"
      ],
      "metadata": {
        "id": "0HjG1HPaFpEf"
      },
      "execution_count": null,
      "outputs": []
    },
    {
      "cell_type": "code",
      "source": [
        "# Or you can\n",
        "x, y = 25.6, 36.9\n",
        "print(x, y)"
      ],
      "metadata": {
        "id": "R5uOZdh0SGjs"
      },
      "execution_count": null,
      "outputs": []
    },
    {
      "cell_type": "code",
      "metadata": {
        "id": "5rTQJ-TlQcfc"
      },
      "source": [
        "x = 100\n",
        "print(x, y)"
      ],
      "execution_count": null,
      "outputs": []
    },
    {
      "cell_type": "markdown",
      "source": [
        "Notes: Rules for variable names\n",
        "- A variable name must start with a letter or the underscore character\n",
        "- A variable name cannot start with a number\n",
        "- A variable name can only contain alpha-numeric characters and underscores (A-z, 0-9, and _ )\n",
        "- Variable names are case-sensitive (age, Age and AGE are three different variables)"
      ],
      "metadata": {
        "id": "z200avDzIs72"
      }
    },
    {
      "cell_type": "code",
      "source": [
        "# But this one is okay\n",
        "π = 3.141592654\n",
        "此地無銀 = 300\n",
        "\n",
        "print(π, 此地無銀, '😂')"
      ],
      "metadata": {
        "id": "m_x11PcnKEj-"
      },
      "execution_count": null,
      "outputs": []
    },
    {
      "cell_type": "markdown",
      "source": [
        "Reference is [here](https://towardsdatascience.com/why-im-coding-with-emojis-in-jupyter-notebooks-23f08585ed3d)."
      ],
      "metadata": {
        "id": "hV40QetNKpJl"
      }
    },
    {
      "cell_type": "markdown",
      "metadata": {
        "id": "hGcncQy9SGjv"
      },
      "source": [
        "### Expressions"
      ]
    },
    {
      "cell_type": "code",
      "metadata": {
        "id": "HZltHW26SGjw"
      },
      "source": [
        "# Addition\n",
        "octopus = 0.5\n",
        "octopus = octopus + 100\n",
        "# Or you can use octopus += 2\n",
        "print(octopus)"
      ],
      "execution_count": null,
      "outputs": []
    },
    {
      "cell_type": "code",
      "metadata": {
        "id": "YFz2hmVBMyp8"
      },
      "source": [
        "octopus += 100\n",
        "print(octopus)"
      ],
      "execution_count": null,
      "outputs": []
    },
    {
      "cell_type": "code",
      "metadata": {
        "id": "OVqGuKCOQi_7"
      },
      "source": [
        "# Multiplication\n",
        "kg = 440 * 12\n",
        "print(kg)"
      ],
      "execution_count": null,
      "outputs": []
    },
    {
      "cell_type": "code",
      "metadata": {
        "id": "HgV50_EjQlAc"
      },
      "source": [
        "# Division\n",
        "ton = kg / 1000\n",
        "print(ton)"
      ],
      "execution_count": null,
      "outputs": []
    },
    {
      "cell_type": "code",
      "metadata": {
        "id": "GUqklw_uQnm7"
      },
      "source": [
        "# Remainder\n",
        "num = 23\n",
        "quo, rem = num // 5, num % 5\n",
        "print(f'{num} divided by 5 equals {quo} with remainder {rem}')"
      ],
      "execution_count": null,
      "outputs": []
    },
    {
      "cell_type": "code",
      "metadata": {
        "id": "9DH_vxT1NMcT"
      },
      "source": [
        "# Power\n",
        "print(4 ** 3)"
      ],
      "execution_count": null,
      "outputs": []
    },
    {
      "cell_type": "code",
      "metadata": {
        "id": "kxBG_0GFSGjz"
      },
      "source": [
        "# Operation Order\n",
        "x = 1 + 2 * 3 - 4 / 5 ** 6\n",
        "print(x)\n",
        "x = 1 + 2 ** 3 / 4 * 5\n",
        "print(x)"
      ],
      "execution_count": null,
      "outputs": []
    },
    {
      "cell_type": "markdown",
      "source": [
        "Reference is [here](https://cheatography.com/nouha-thabet/cheat-sheets/python-operators-and-booleans/).\n",
        "![Week 1 colab 001.png](https://drive.google.com/uc?export=view&id=13m_geSQwMSNe43qn1AqDN66CqX3hNOfj)"
      ],
      "metadata": {
        "id": "23AITElcO03i"
      }
    },
    {
      "cell_type": "markdown",
      "metadata": {
        "id": "5ijxbIHWSGj3"
      },
      "source": [
        "### Variable Types"
      ]
    },
    {
      "cell_type": "code",
      "metadata": {
        "id": "bDrKOM3ASGj3"
      },
      "source": [
        "# numeric \"+\"\n",
        "num_add = 1 + 4\n",
        "print(num_add)"
      ],
      "execution_count": null,
      "outputs": []
    },
    {
      "cell_type": "code",
      "metadata": {
        "id": "07IhamrTSWb6"
      },
      "source": [
        "# string \"+\"\n",
        "str_add = 'hello ' + 'there'\n",
        "print(str_add)"
      ],
      "execution_count": null,
      "outputs": []
    },
    {
      "cell_type": "code",
      "metadata": {
        "id": "LyE5gE5QSY0p"
      },
      "source": [
        "# Error\n",
        "str_add = str_add + 1"
      ],
      "execution_count": null,
      "outputs": []
    },
    {
      "cell_type": "code",
      "metadata": {
        "id": "DSO0lSj6S7sv"
      },
      "source": [
        "# Check the type\n",
        "print(type(str_add))"
      ],
      "execution_count": null,
      "outputs": []
    },
    {
      "cell_type": "code",
      "metadata": {
        "id": "crKDD4jAScDJ"
      },
      "source": [
        "print(type('hello'))\n",
        "print(type(1))"
      ],
      "execution_count": null,
      "outputs": []
    },
    {
      "cell_type": "markdown",
      "metadata": {
        "id": "y5_3C8DJSGj7"
      },
      "source": [
        "### Type Conversions"
      ]
    },
    {
      "cell_type": "code",
      "metadata": {
        "id": "5Q7BbaDySGj7"
      },
      "source": [
        "print(float(99) + 100)"
      ],
      "execution_count": null,
      "outputs": []
    },
    {
      "cell_type": "code",
      "metadata": {
        "id": "neJsGR-bS_En"
      },
      "source": [
        "i = 42\n",
        "print(f'Type of i = {type(i)}')\n",
        "\n",
        "f = float(i)\n",
        "print(f)\n",
        "print(f'Type of f = {type(f)}')"
      ],
      "execution_count": null,
      "outputs": []
    },
    {
      "cell_type": "code",
      "metadata": {
        "id": "wGTzMPcOSGj_"
      },
      "source": [
        "# Error for this case\n",
        "str_num_eg = '123'\n",
        "print(f'Type of str_num_eg = {type(str_num_eg)}')\n",
        "print(str_num_eg + 1)"
      ],
      "execution_count": null,
      "outputs": []
    },
    {
      "cell_type": "code",
      "metadata": {
        "id": "E8V8KtYjTTDE"
      },
      "source": [
        "# This is okay\n",
        "int_num_eg = int(str_num_eg)\n",
        "print(type(int_num_eg))\n",
        "print(int_num_eg + 1)"
      ],
      "execution_count": null,
      "outputs": []
    },
    {
      "cell_type": "code",
      "metadata": {
        "id": "JKGVxnm1TstS"
      },
      "source": [
        "# convert to string\n",
        "print(str(int_num_eg))"
      ],
      "execution_count": null,
      "outputs": []
    },
    {
      "cell_type": "code",
      "metadata": {
        "id": "x6M07mxYTk5T"
      },
      "source": [
        "# Error\n",
        "err_str2int = 'I go to make error'\n",
        "err_int = int(err_str2int)"
      ],
      "execution_count": null,
      "outputs": []
    },
    {
      "cell_type": "markdown",
      "metadata": {
        "id": "7sI0U1tXSGkE"
      },
      "source": [
        "### Integer Division"
      ]
    },
    {
      "cell_type": "code",
      "metadata": {
        "id": "DqBT9e9GO6aD"
      },
      "source": [
        "# Outcome of integer division gives integers\n",
        "print(10 // 2)"
      ],
      "execution_count": null,
      "outputs": []
    },
    {
      "cell_type": "code",
      "metadata": {
        "id": "fH39P9YFSGkE"
      },
      "source": [
        "# Outcome a float whatever they are integers or floats\n",
        "print(10 / 2)\n",
        "print(9 / 2)\n",
        "print(99 / 100)\n",
        "print(10.0 / 2.0)\n",
        "print(99.0 / 100.0)"
      ],
      "execution_count": null,
      "outputs": []
    },
    {
      "cell_type": "markdown",
      "metadata": {
        "id": "yzy0c8beSGkH"
      },
      "source": [
        "User Input"
      ]
    },
    {
      "cell_type": "code",
      "metadata": {
        "scrolled": false,
        "id": "UaB5oiRGSGkI"
      },
      "source": [
        "name = input('Who are you? ')\n",
        "print(f'Hi {name} your salary is being transferred to your wife automatically...')"
      ],
      "execution_count": null,
      "outputs": []
    },
    {
      "cell_type": "markdown",
      "metadata": {
        "id": "mE-8z3nHSGkL"
      },
      "source": [
        "### Conditional Statement"
      ]
    },
    {
      "cell_type": "code",
      "metadata": {
        "id": "gjQdMiLPSGkM"
      },
      "source": [
        "x = 5\n",
        "print('Before 5')\n",
        "if  x == 5 :\n",
        "    print('Is 5')\n",
        "    print('Is Still 5')\n",
        "    print('Third 5')\n",
        "print('Afterwards 5')\n",
        "print('Before 6')\n",
        "if x == 6 :\n",
        "    print('Is 6')\n",
        "    print('Is Still 6')\n",
        "    print('Third 6')\n",
        "print('Afterwards 6')"
      ],
      "execution_count": null,
      "outputs": []
    },
    {
      "cell_type": "code",
      "source": [
        "if x < 2:\n",
        "print('small')"
      ],
      "metadata": {
        "id": "wJtB_T3Ooory"
      },
      "execution_count": null,
      "outputs": []
    },
    {
      "cell_type": "code",
      "metadata": {
        "id": "GKIA0C65SGkP"
      },
      "source": [
        "if x < 2 :\n",
        "    print('small')\n",
        "elif x < 10 :\n",
        "    print('Medium')\n",
        "else :\n",
        "    print('LARGE')\n",
        "print('All done')"
      ],
      "execution_count": null,
      "outputs": []
    },
    {
      "cell_type": "code",
      "metadata": {
        "id": "bGh7ckATX8-L"
      },
      "source": [
        "# One line for a condition\n",
        "print('small' if x < 2 else 'Medium' if x < 10 else 'LARGE')"
      ],
      "execution_count": null,
      "outputs": []
    },
    {
      "cell_type": "markdown",
      "metadata": {
        "id": "WgMmCOklSGkS"
      },
      "source": [
        "### While Loop"
      ]
    },
    {
      "cell_type": "code",
      "source": [
        "# Countdown Player\n",
        "import time\n",
        "sec = 5\n",
        "\n",
        "print('Start Count Down !')\n",
        "while sec >= 0:\n",
        "    print(sec)\n",
        "    if sec == 0:\n",
        "        break\n",
        "    time.sleep(0.5)\n",
        "    sec -= 0.5\n",
        "\n",
        "print('Boom !!!')"
      ],
      "metadata": {
        "id": "GfAEzoHF19EE"
      },
      "execution_count": null,
      "outputs": []
    },
    {
      "cell_type": "code",
      "metadata": {
        "id": "bVKWb2ALSGkS"
      },
      "source": [
        "# Temperory Editor\n",
        "lines_saved = [] # List, will be taught in Week 3\n",
        "\n",
        "while True:\n",
        "    line = input('> ')\n",
        "    if line[0] == '#' :\n",
        "        continue\n",
        "    if line == 'done' :\n",
        "        break\n",
        "    print(line)\n",
        "    lines_saved.append(line) # List, will be taught in Week 3\n",
        "\n",
        "print('Done!')\n",
        "print(lines_saved)"
      ],
      "execution_count": null,
      "outputs": []
    },
    {
      "cell_type": "markdown",
      "metadata": {
        "id": "O0f5E2-mSGkX"
      },
      "source": [
        "### For Loop"
      ]
    },
    {
      "cell_type": "code",
      "metadata": {
        "id": "q_MvJPg3SGkY"
      },
      "source": [
        "# Dynamic EMail Sender\n",
        "professors = ['Ben', 'Michael', 'Tony', 'Keith', 'Yau']\n",
        "\n",
        "# import win32com.client as win32\n",
        "# outlook = win32.Dispatch('outlook.application')\n",
        "for professor in professors :\n",
        "    # mail = outlook.CreateItem(0)\n",
        "    # mail.To = f'{professor}@sta.cuhk.edu.hk'\n",
        "    # mail.Subject = f'Happy Mooncake festival !!!'\n",
        "    body = f'Happy Mooncake festival, {professor} !!!'\n",
        "    print(body)\n",
        "    # mail.Body = body\n",
        "    # mail.Send()\n",
        "print('Done!')"
      ],
      "execution_count": null,
      "outputs": []
    },
    {
      "cell_type": "code",
      "metadata": {
        "id": "uBqFV1s6VDSh"
      },
      "source": [
        "# Find the largest value by for loop\n",
        "largest_so_far = -1\n",
        "print('Before', largest_so_far)\n",
        "for the_num in [9, 41, 12, 3, 74, 15] :\n",
        "    if the_num > largest_so_far :\n",
        "        largest_so_far = the_num\n",
        "    print(largest_so_far, the_num)\n",
        "print('After', largest_so_far)"
      ],
      "execution_count": null,
      "outputs": []
    },
    {
      "cell_type": "markdown",
      "metadata": {
        "id": "5Syr7DoxSGme"
      },
      "source": [
        "### Simple Files IO"
      ]
    },
    {
      "cell_type": "code",
      "metadata": {
        "id": "dLTf2BO-SGmh"
      },
      "source": [
        "# Write a file\n",
        "file = open(\"testing.txt\",\"w\")\n",
        "file.write(\"Hello World\")\n",
        "file.write(\"This is a Python Programming class\")\n",
        "file.write(\"Happy coding.\")\n",
        "file.write(\"Cheers, Alan.\")\n",
        "file.close()"
      ],
      "execution_count": null,
      "outputs": []
    },
    {
      "cell_type": "code",
      "metadata": {
        "id": "dJ7mowtGb8ec"
      },
      "source": [
        "# please place welcome.txt before running this code\n",
        "handle = open('welcome.txt')\n",
        "print(handle)"
      ],
      "execution_count": null,
      "outputs": []
    },
    {
      "cell_type": "code",
      "metadata": {
        "id": "F1bRUtnwcEdL"
      },
      "source": [
        "# Otherwise you will get error\n",
        "handle2 = open('goodbye.txt')"
      ],
      "execution_count": null,
      "outputs": []
    },
    {
      "cell_type": "code",
      "metadata": {
        "id": "VoYaW8QUcJ0c"
      },
      "source": [
        "# length of string includes \\n and !\n",
        "stuff = 'Hello\\nWorld!'\n",
        "print(stuff)\n",
        "print(len(stuff))"
      ],
      "execution_count": null,
      "outputs": []
    },
    {
      "cell_type": "code",
      "metadata": {
        "id": "U98YejZ6cZI7"
      },
      "source": [
        "# print for each line\n",
        "for line in handle:\n",
        "    print(line)"
      ],
      "execution_count": null,
      "outputs": []
    },
    {
      "cell_type": "code",
      "metadata": {
        "id": "tH7NugMvcfr5"
      },
      "source": [
        "# or read all the lines\n",
        "handle = open('welcome.txt')\n",
        "lines = handle.read()\n",
        "print(len(lines))"
      ],
      "execution_count": null,
      "outputs": []
    },
    {
      "cell_type": "code",
      "metadata": {
        "id": "LxqlhmG8cufJ"
      },
      "source": [
        "# remember to close the file after using this\n",
        "handle.close()"
      ],
      "execution_count": null,
      "outputs": []
    },
    {
      "cell_type": "code",
      "source": [],
      "metadata": {
        "id": "WfVdDkcVbzNa"
      },
      "execution_count": null,
      "outputs": []
    }
  ]
}